{
 "cells": [
  {
   "cell_type": "markdown",
   "metadata": {},
   "source": [
    "Задание 1\n",
    "Это было в конспекте семинара, комментировать нечего?)"
   ]
  },
  {
   "cell_type": "code",
   "execution_count": 1,
   "metadata": {},
   "outputs": [
    {
     "data": {
      "text/plain": [
       "2556"
      ]
     },
     "execution_count": 1,
     "metadata": {},
     "output_type": "execute_result"
    }
   ],
   "source": [
    "import json\n",
    "twitter = []\n",
    "for line in open('hw_3_twitter.json'):\n",
    "    twitter.append(json.loads(line))\n",
    "len(twitter)"
   ]
  },
  {
   "cell_type": "markdown",
   "metadata": {},
   "source": [
    "Задание 2\n",
    "\n",
    "Создаем два списка, удаленные твиты и нет(второй для третьего задания). \n",
    "Перебираем, смотрим, встречается ли 'delete', если да, то добавляем в список удаленных.\n",
    "Считаем по формуле, округляем для красоты, и выводим процент удаленных."
   ]
  },
  {
   "cell_type": "code",
   "execution_count": 6,
   "metadata": {},
   "outputs": [
    {
     "name": "stdout",
     "output_type": "stream",
     "text": [
      "14.16 % - deleted twits\n"
     ]
    }
   ],
   "source": [
    "deleted = []\n",
    "ok = []\n",
    "for i in range(len(twitter)):\n",
    "    if 'delete' in twitter[i].keys():\n",
    "        deleted.append(twitter[i])\n",
    "    else:\n",
    "        ok.append(twitter[i]) \n",
    "print(round((len(deleted) / len(twitter) * 100), 2), '% - deleted twits')"
   ]
  },
  {
   "cell_type": "markdown",
   "metadata": {},
   "source": [
    "задание 3\n",
    "Создаем список. \n",
    "Перебираем неудалённые твиты, добавляем в список значение ключа 'lang', создаем словарь\n",
    "Сортируем словарь по частотности и распечатываем 10 самых популярных языков\n"
   ]
  },
  {
   "cell_type": "code",
   "execution_count": 3,
   "metadata": {},
   "outputs": [
    {
     "name": "stdout",
     "output_type": "stream",
     "text": [
      "The most common languages:\n",
      "\n",
      "№:\tLanguage:\tQuatity:\n",
      "1\ten\t\t719\n",
      "2\tja\t\t438\n",
      "3\tes\t\t173\n",
      "4\tko\t\t149\n",
      "5\tth\t\t123\n",
      "6\tar\t\t119\n",
      "7\tund\t\t117\n",
      "8\tin\t\t71\n",
      "9\tpt\t\t69\n",
      "10\tfr\t\t35\n",
      "11\ttr\t\t30\n",
      "12\ttl\t\t29\n",
      "13\thi\t\t23\n",
      "14\tru\t\t15\n",
      "15\tfa\t\t8\n",
      "\n"
     ]
    }
   ],
   "source": [
    "from collections import Counter\n",
    "lang = []\n",
    "for i in range(len(ok)):\n",
    "    lang.append(ok[i]['lang'])\n",
    "not_deleted = Counter(lang)\n",
    "title = '№:\\tLanguage:\\tQuatity:\\n'  # заголовок\n",
    "i = 1\n",
    "for lang, count in not_deleted.most_common(15):\n",
    "    title += (str(i) + '\\t' + lang + '\\t\\t' + str(count) + '\\n')\n",
    "    i += 1\n",
    "\n",
    "print('The most common languages:\\n\\n', title, sep='')"
   ]
  },
  {
   "cell_type": "markdown",
   "metadata": {},
   "source": [
    "Задание 4\n",
    "Создаем список.\n",
    "Добавляем в него id пользователей из списка с неудаленными твитами (ok).\n",
    "Чтобы узнать сколько совпадающий id, создаем словарь с Counter. И если совпал, добавляем в счетчик.\n"
   ]
  },
  {
   "cell_type": "code",
   "execution_count": 7,
   "metadata": {},
   "outputs": [
    {
     "name": "stdout",
     "output_type": "stream",
     "text": [
      "Users with more than one twit: 25\n"
     ]
    }
   ],
   "source": [
    "user = []\n",
    "for i in range(len(ok)):\n",
    "    user.append(ok[i]['user']['id_str'])\n",
    "users = Counter(user)\n",
    "matching = 0 #счётчик совпадающих\n",
    "for i in users.values():\n",
    "    if i > 1:\n",
    "        matching += 1\n",
    "print('Users with more than one twit:', matching)"
   ]
  },
  {
   "cell_type": "markdown",
   "metadata": {},
   "source": [
    "Задание 8\n",
    "Извините, я совсем не успела коммент написать"
   ]
  },
  {
   "cell_type": "code",
   "execution_count": 13,
   "metadata": {},
   "outputs": [
    {
     "name": "stdout",
     "output_type": "stream",
     "text": [
      "{'created_at': 'Wed Oct 03 05:00:59 +0000 2018', 'id': 1047350780913758209, 'id_str': '1047350780913758209', 'text': 'https://t.co/kuZFuDn9bL', 'display_text_range': [0, 0], 'source': '<a href=\"http://twitter.com/download/android\" rel=\"nofollow\">Twitter for Android</a>', 'truncated': False, 'in_reply_to_status_id': None, 'in_reply_to_status_id_str': None, 'in_reply_to_user_id': None, 'in_reply_to_user_id_str': None, 'in_reply_to_screen_name': None, 'user': {'id': 999713418998439937, 'id_str': '999713418998439937', 'name': 'Jamescr4961', 'screen_name': 'Jamescr26840777', 'location': 'Palmira, Colombia', 'url': None, 'description': None, 'translator_type': 'none', 'protected': False, 'verified': False, 'followers_count': 3, 'friends_count': 28, 'listed_count': 0, 'favourites_count': 70, 'statuses_count': 6240, 'created_at': 'Thu May 24 18:07:07 +0000 2018', 'utc_offset': None, 'time_zone': None, 'geo_enabled': False, 'lang': 'es', 'contributors_enabled': False, 'is_translator': False, 'profile_background_color': 'F5F8FA', 'profile_background_image_url': '', 'profile_background_image_url_https': '', 'profile_background_tile': False, 'profile_link_color': '1DA1F2', 'profile_sidebar_border_color': 'C0DEED', 'profile_sidebar_fill_color': 'DDEEF6', 'profile_text_color': '333333', 'profile_use_background_image': True, 'profile_image_url': 'http://pbs.twimg.com/profile_images/1025093535433981954/Gf0f5rvX_normal.jpg', 'profile_image_url_https': 'https://pbs.twimg.com/profile_images/1025093535433981954/Gf0f5rvX_normal.jpg', 'default_profile': True, 'default_profile_image': False, 'following': None, 'follow_request_sent': None, 'notifications': None}, 'geo': None, 'coordinates': None, 'place': None, 'contributors': None, 'is_quote_status': False, 'quote_count': 0, 'reply_count': 0, 'retweet_count': 0, 'favorite_count': 0, 'entities': {'hashtags': [], 'urls': [], 'user_mentions': [], 'symbols': [], 'media': [{'id': 1047350760785293312, 'id_str': '1047350760785293312', 'indices': [0, 23], 'media_url': 'http://pbs.twimg.com/media/Dojv98PXsAAd23q.jpg', 'media_url_https': 'https://pbs.twimg.com/media/Dojv98PXsAAd23q.jpg', 'url': 'https://t.co/kuZFuDn9bL', 'display_url': 'pic.twitter.com/kuZFuDn9bL', 'expanded_url': 'https://twitter.com/Jamescr26840777/status/1047350780913758209/photo/1', 'type': 'photo', 'sizes': {'large': {'w': 700, 'h': 939, 'resize': 'fit'}, 'thumb': {'w': 150, 'h': 150, 'resize': 'crop'}, 'medium': {'w': 700, 'h': 939, 'resize': 'fit'}, 'small': {'w': 507, 'h': 680, 'resize': 'fit'}}}]}, 'extended_entities': {'media': [{'id': 1047350760785293312, 'id_str': '1047350760785293312', 'indices': [0, 23], 'media_url': 'http://pbs.twimg.com/media/Dojv98PXsAAd23q.jpg', 'media_url_https': 'https://pbs.twimg.com/media/Dojv98PXsAAd23q.jpg', 'url': 'https://t.co/kuZFuDn9bL', 'display_url': 'pic.twitter.com/kuZFuDn9bL', 'expanded_url': 'https://twitter.com/Jamescr26840777/status/1047350780913758209/photo/1', 'type': 'photo', 'sizes': {'large': {'w': 700, 'h': 939, 'resize': 'fit'}, 'thumb': {'w': 150, 'h': 150, 'resize': 'crop'}, 'medium': {'w': 700, 'h': 939, 'resize': 'fit'}, 'small': {'w': 507, 'h': 680, 'resize': 'fit'}}}]}, 'favorited': False, 'retweeted': False, 'possibly_sensitive': False, 'filter_level': 'low', 'lang': 'und', 'timestamp_ms': '1538542859663'} \t 800 \t Twitter for iPhone\n"
     ]
    },
    {
     "ename": "TypeError",
     "evalue": "unsupported operand type(s) for +=: 'dict' and 'int'",
     "output_type": "error",
     "traceback": [
      "\u001b[1;31m---------------------------------------------------------------------------\u001b[0m",
      "\u001b[1;31mTypeError\u001b[0m                                 Traceback (most recent call last)",
      "\u001b[1;32m<ipython-input-13-714ec9312760>\u001b[0m in \u001b[0;36m<module>\u001b[1;34m\u001b[0m\n\u001b[0;32m      9\u001b[0m \u001b[1;32mfor\u001b[0m \u001b[0mitem\u001b[0m \u001b[1;32min\u001b[0m \u001b[0mnum\u001b[0m\u001b[1;33m.\u001b[0m\u001b[0mmost_common\u001b[0m\u001b[1;33m(\u001b[0m\u001b[1;36m10\u001b[0m\u001b[1;33m)\u001b[0m\u001b[1;33m:\u001b[0m\u001b[1;33m\u001b[0m\u001b[1;33m\u001b[0m\u001b[0m\n\u001b[0;32m     10\u001b[0m     \u001b[0mprint\u001b[0m\u001b[1;33m(\u001b[0m\u001b[0mstr\u001b[0m\u001b[1;33m(\u001b[0m\u001b[0mi\u001b[0m\u001b[1;33m)\u001b[0m\u001b[1;33m,\u001b[0m \u001b[1;34m'\\t'\u001b[0m\u001b[1;33m,\u001b[0m \u001b[0mitem\u001b[0m\u001b[1;33m[\u001b[0m\u001b[1;36m1\u001b[0m\u001b[1;33m]\u001b[0m\u001b[1;33m,\u001b[0m \u001b[1;34m'\\t'\u001b[0m\u001b[1;33m,\u001b[0m \u001b[0mitem\u001b[0m\u001b[1;33m[\u001b[0m\u001b[1;36m0\u001b[0m\u001b[1;33m]\u001b[0m\u001b[1;33m)\u001b[0m\u001b[1;33m\u001b[0m\u001b[1;33m\u001b[0m\u001b[0m\n\u001b[1;32m---> 11\u001b[1;33m     \u001b[0mi\u001b[0m \u001b[1;33m+=\u001b[0m \u001b[1;36m1\u001b[0m\u001b[1;33m\u001b[0m\u001b[1;33m\u001b[0m\u001b[0m\n\u001b[0m",
      "\u001b[1;31mTypeError\u001b[0m: unsupported operand type(s) for +=: 'dict' and 'int'"
     ]
    }
   ],
   "source": [
    "import re\n",
    "source = []\n",
    "for line in ok:\n",
    "    source_item = line.get(\"source\")\n",
    "    result = re.findall('rel=\"nofollow\">(.+)</a>', source_item)\n",
    "    source.extend(result)\n",
    "from collections import Counter\n",
    "num = Counter(source)\n",
    "for item in num.most_common(10):\n",
    "    print(str(i), '\\t', item[1], '\\t', item[0])\n",
    "    i += 1"
   ]
  },
  {
   "cell_type": "code",
   "execution_count": null,
   "metadata": {},
   "outputs": [],
   "source": []
  }
 ],
 "metadata": {
  "kernelspec": {
   "display_name": "Python 3",
   "language": "python",
   "name": "python3"
  },
  "language_info": {
   "codemirror_mode": {
    "name": "ipython",
    "version": 3
   },
   "file_extension": ".py",
   "mimetype": "text/x-python",
   "name": "python",
   "nbconvert_exporter": "python",
   "pygments_lexer": "ipython3",
   "version": "3.7.3"
  }
 },
 "nbformat": 4,
 "nbformat_minor": 2
}
